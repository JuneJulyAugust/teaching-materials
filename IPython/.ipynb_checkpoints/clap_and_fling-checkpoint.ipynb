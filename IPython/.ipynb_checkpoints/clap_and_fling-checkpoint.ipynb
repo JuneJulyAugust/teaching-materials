{
 "metadata": {
  "name": "",
  "signature": "sha256:ef4cbd183aec4aa1aa238ff0f34b3047339eba32e4d23397f27b584ec0e31c14"
 },
 "nbformat": 3,
 "nbformat_minor": 0,
 "worksheets": [
  {
   "cells": [
    {
     "cell_type": "code",
     "collapsed": false,
     "input": [
      "from IPython.core.display import HTML\n",
      "def css_styling():\n",
      "    styles = open('./styles/custom.css', 'r').read()\n",
      "    return HTML(styles)\n",
      "css_styling()"
     ],
     "language": "python",
     "metadata": {},
     "outputs": [
      {
       "html": [
        "<link href='http://fonts.googleapis.com/css?family=Fenix' rel='stylesheet' type='text/css'>\n",
        "<link href='http://fonts.googleapis.com/css?family=Alegreya+Sans:100,300,400,500,700,800,900,100italic,300italic,400italic,500italic,700italic,800italic,900italic' rel='stylesheet' type='text/css'>\n",
        "<link href='http://fonts.googleapis.com/css?family=Source+Code+Pro:300,400' rel='stylesheet' type='text/css'>\n",
        "<style>\n",
        "    @font-face {\n",
        "        font-family: \"Computer Modern\";\n",
        "        src: url('http://mirrors.ctan.org/fonts/cm-unicode/fonts/otf/cmunss.otf');\n",
        "    }\n",
        "    div.cell{\n",
        "        width:800px;\n",
        "        margin-left:16% !important;\n",
        "        margin-right:auto;\n",
        "    }\n",
        "    h1 {\n",
        "        font-family: 'Alegreya Sans', sans-serif;\n",
        "    }\n",
        "    h2 {\n",
        "        font-family: 'Fenix', serif;\n",
        "    }\n",
        "    h3{\n",
        "\t\tfont-family: 'Fenix', serif;\n",
        "        margin-top:12px;\n",
        "        margin-bottom: 3px;\n",
        "       }\n",
        "\th4{\n",
        "\t\tfont-family: 'Fenix', serif;\n",
        "       }\n",
        "    h5 {\n",
        "        font-family: 'Alegreya Sans', sans-serif;\n",
        "    }\t   \n",
        "    div.text_cell_render{\n",
        "        font-family: 'Alegreya Sans',Computer Modern, \"Helvetica Neue\", Arial, Helvetica, Geneva, sans-serif;\n",
        "        line-height: 135%;\n",
        "        font-size: 120%;\n",
        "        width:600px;\n",
        "        margin-left:auto;\n",
        "        margin-right:auto;\n",
        "    }\n",
        "    .CodeMirror{\n",
        "            font-family: \"Source Code Pro\";\n",
        "\t\t\tfont-size: 90%;\n",
        "    }\n",
        "/*    .prompt{\n",
        "        display: None;\n",
        "    }*/\n",
        "    .text_cell_render h1 {\n",
        "        font-weight: 200;\n",
        "        font-size: 50pt;\n",
        "\t\tline-height: 100%;\n",
        "        color:#CD2305;\n",
        "        margin-bottom: 0.5em;\n",
        "        margin-top: 0.5em;\n",
        "        display: block;\n",
        "    }\t\n",
        "    .text_cell_render h5 {\n",
        "        font-weight: 300;\n",
        "        font-size: 16pt;\n",
        "        color: #CD2305;\n",
        "        font-style: italic;\n",
        "        margin-bottom: .5em;\n",
        "        margin-top: 0.5em;\n",
        "        display: block;\n",
        "    }\n",
        "    \n",
        "    .warning{\n",
        "        color: rgb( 240, 20, 20 )\n",
        "        }  \n",
        "</style>\n",
        "<script>\n",
        "    MathJax.Hub.Config({\n",
        "                        TeX: {\n",
        "                           extensions: [\"AMSmath.js\"]\n",
        "                           },\n",
        "                tex2jax: {\n",
        "                    inlineMath: [ ['$','$'], [\"\\\\(\",\"\\\\)\"] ],\n",
        "                    displayMath: [ ['$$','$$'], [\"\\\\[\",\"\\\\]\"] ]\n",
        "                },\n",
        "                displayAlign: 'center', // Change this to 'center' to center equations.\n",
        "                \"HTML-CSS\": {\n",
        "                    styles: {'.MathJax_Display': {\"margin\": 4}}\n",
        "                }\n",
        "        });\n",
        "</script>\n"
       ],
       "metadata": {},
       "output_type": "pyout",
       "prompt_number": 1,
       "text": [
        "<IPython.core.display.HTML at 0x10239a750>"
       ]
      }
     ],
     "prompt_number": 1
    },
    {
     "cell_type": "markdown",
     "metadata": {},
     "source": [
      "---"
     ]
    },
    {
     "cell_type": "heading",
     "level": 1,
     "metadata": {},
     "source": [
      "Clap & Fling"
     ]
    },
    {
     "cell_type": "code",
     "collapsed": false,
     "input": [
      "from math import *\n",
      "import numpy as np\n",
      "import plotly.plotly as py\n",
      "from plotly.graph_objs import *"
     ],
     "language": "python",
     "metadata": {},
     "outputs": [],
     "prompt_number": 2
    },
    {
     "cell_type": "code",
     "collapsed": false,
     "input": [
      "'''py.sign_in(\"mesnardo\", \"9s59dux14e\")\n",
      "trace1 = Scatter(x=x, y=y, \n",
      "                 mode='lines+markers',\n",
      "                 name = r'$y = x^2$')\n",
      "\n",
      "data = Data([trace1])\n",
      "\n",
      "layout = Layout(title=r'$f(x)=x^2$',\n",
      "                xaxis=XAxis(title='x', \n",
      "                            showgrid=True,\n",
      "                            titlefont=Font(family='Courier New, monospace',\n",
      "                                           size=18,\n",
      "                                           color='#7f7f7f')),\n",
      "                yaxis=YAxis(title='y', \n",
      "                            showgrid=True,\n",
      "                            titlefont=Font(family='Courier New, monospace',\n",
      "                                           size=18,\n",
      "                                           color='#7f7f7f')))\n",
      "\n",
      "fig = Figure(data=data, layout=layout)\n",
      "py.iplot(fig)\n",
      "#plot_url = py.plot(fig, filename='test1')'''"
     ],
     "language": "python",
     "metadata": {},
     "outputs": [
      {
       "metadata": {},
       "output_type": "pyout",
       "prompt_number": 3,
       "text": [
        "'py.sign_in(\"mesnardo\", \"9s59dux14e\")\\ntrace1 = Scatter(x=x, y=y, \\n                 mode=\\'lines+markers\\',\\n                 name = r\\'$y = x^2$\\')\\n\\ndata = Data([trace1])\\n\\nlayout = Layout(title=r\\'$f(x)=x^2$\\',\\n                xaxis=XAxis(title=\\'x\\', \\n                            showgrid=True,\\n                            titlefont=Font(family=\\'Courier New, monospace\\',\\n                                           size=18,\\n                                           color=\\'#7f7f7f\\')),\\n                yaxis=YAxis(title=\\'y\\', \\n                            showgrid=True,\\n                            titlefont=Font(family=\\'Courier New, monospace\\',\\n                                           size=18,\\n                                           color=\\'#7f7f7f\\')))\\n\\nfig = Figure(data=data, layout=layout)\\npy.iplot(fig)\\n#plot_url = py.plot(fig, filename=\\'test1\\')'"
       ]
      }
     ],
     "prompt_number": 3
    },
    {
     "cell_type": "heading",
     "level": 2,
     "metadata": {},
     "source": [
      "Kinematic model of \"clap and fling\" motion"
     ]
    },
    {
     "cell_type": "markdown",
     "metadata": {},
     "source": [
      "The kinematics of flapping wings can be decomposed into 4 phases: *downstroke*, *supination*, *upstroke* and *pronation*.\n",
      "\n",
      "* *upstroke*: ventral to dorsal motion,\n",
      "* *downstroke*: dorsal to ventral motion,\n",
      "* *supination*: rotational transition from downstroke to upstroke that causes the ventral side to face upward,\n",
      "* *pronation*: opposite of *supination* that results in ventral side facing downward during transition from upstroke to downstroke."
     ]
    },
    {
     "cell_type": "markdown",
     "metadata": {},
     "source": [
      "$C$ is the chord length of the wing and the we define the aspect ratio of the wing as the chord length to thickness ratio."
     ]
    },
    {
     "cell_type": "code",
     "collapsed": false,
     "input": [
      "C = 0.05\n",
      "AR = 10"
     ],
     "language": "python",
     "metadata": {},
     "outputs": [],
     "prompt_number": 4
    },
    {
     "cell_type": "markdown",
     "metadata": {},
     "source": [
      "$v_\\text{max}$ represents the maximum translational velocity and $\\Delta\\theta$ the angle of attack of the wing."
     ]
    },
    {
     "cell_type": "code",
     "collapsed": false,
     "input": [
      "v_max = 2.0\n",
      "dtheta = 45.0"
     ],
     "language": "python",
     "metadata": {},
     "outputs": [],
     "prompt_number": 5
    },
    {
     "cell_type": "markdown",
     "metadata": {},
     "source": [
      "The variable $D$ defines the gap between the 2 wings and is expressed in terms of fraction of the chord length $C$ through the parameter $\\delta$:\n",
      "\n",
      "$$\\delta = \\frac{D}{C}$$"
     ]
    },
    {
     "cell_type": "code",
     "collapsed": false,
     "input": [
      "delta = 0.1\n",
      "D = delta * C"
     ],
     "language": "python",
     "metadata": {},
     "outputs": [],
     "prompt_number": 6
    },
    {
     "cell_type": "markdown",
     "metadata": {},
     "source": [
      "<center>![image](files/resources/layout_wings_arora_et_al_2014.png)</center>"
     ]
    },
    {
     "cell_type": "markdown",
     "metadata": {},
     "source": [
      "$\\xi$ is the translational rotational overlap, defined as the percentage of the rotation phase in which translation also occurs."
     ]
    },
    {
     "cell_type": "code",
     "collapsed": false,
     "input": [
      "xi = 0.5"
     ],
     "language": "python",
     "metadata": {},
     "outputs": [],
     "prompt_number": 7
    },
    {
     "cell_type": "markdown",
     "metadata": {},
     "source": [
      "* $\\Delta\\tau_\\text{acc}$ is the duration of translational **acceleration**,\n",
      "* $\\Delta\\tau_\\text{dec}$ is the duration of translational **deceleration**,\n",
      "* $\\Delta\\tau_\\text{s}$ si the duration of the **steady translation**.\n",
      "\n",
      "* $\\Delta\\tau_\\text{rot}$ is the duration of the rotation phase"
     ]
    },
    {
     "cell_type": "code",
     "collapsed": false,
     "input": [
      "dt_acc = 1.3\n",
      "dt_dec = 1.3\n",
      "dt_s = 3.4\n",
      "dt_rot = 1.74"
     ],
     "language": "python",
     "metadata": {},
     "outputs": [],
     "prompt_number": 8
    },
    {
     "cell_type": "markdown",
     "metadata": {},
     "source": [
      "The duration of one complete cycle, $T$, is defined as\n",
      "\n",
      "$$ T = 2 \\left[ 2\\Delta\\tau_\\text{rot} \\left(1-\\xi\\right) + \\Delta\\tau_\\text{acc} + \\Delta\\tau_\\text{s} + \\Delta\\tau_\\text{dec} \\right] $$"
     ]
    },
    {
     "cell_type": "code",
     "collapsed": false,
     "input": [
      "T = 2 * (2*dt_rot*(1-xi) + dt_acc + dt_s + dt_dec)"
     ],
     "language": "python",
     "metadata": {},
     "outputs": [],
     "prompt_number": 9
    },
    {
     "cell_type": "markdown",
     "metadata": {},
     "source": [
      "* $\\tau_\\text{acc,f}$ is the time when translational **acceleration** begins during the **fling**,\n",
      "* $\\tau_\\text{dec,f}$ is the time when translational **deceleration** begins during the **fling**,\n",
      "* $\\tau_\\text{acc,c}$ is the time when translational **acceleration** begins during the **clap**,\n",
      "* $\\tau_\\text{dec,c}$ is the time when translational **deceleration** begins during the **clap**."
     ]
    },
    {
     "cell_type": "code",
     "collapsed": false,
     "input": [
      "t_acc_fling = (1.-xi) * dt_rot\n",
      "t_dec_fling = t_acc_fling + dt_acc + dt_s\n",
      "\n",
      "t_acc_clap = T/2. + (1.-xi) * dt_rot\n",
      "t_dec_clap = t_acc_clap + dt_acc + dt_s"
     ],
     "language": "python",
     "metadata": {},
     "outputs": [],
     "prompt_number": 10
    },
    {
     "cell_type": "markdown",
     "metadata": {},
     "source": [
      "To calculate the translational velocity of the wing, we discretize the time over the duration of a complete cycle $T$, using the `Numpy` function [`linspace()`](http://docs.scipy.org/doc/numpy/reference/generated/numpy.linspace.html)."
     ]
    },
    {
     "cell_type": "code",
     "collapsed": false,
     "input": [
      "N = 100    # number of time values\n",
      "t_values = np.linspace(0.0, T, N+1)    # time discretization"
     ],
     "language": "python",
     "metadata": {},
     "outputs": [],
     "prompt_number": 11
    },
    {
     "cell_type": "markdown",
     "metadata": {},
     "source": [
      "We initialize the `Numpy` arrays containing the translational `v` and angular `w` velocities using the function [`empty_like()`](http://docs.scipy.org/doc/numpy/reference/generated/numpy.empty_like.html)."
     ]
    },
    {
     "cell_type": "code",
     "collapsed": false,
     "input": [
      "v = np.empty_like(t_values)    # translational velocity\n",
      "w = np.empty_like(t_values)    # angular velocity"
     ],
     "language": "python",
     "metadata": {},
     "outputs": [],
     "prompt_number": 12
    },
    {
     "cell_type": "markdown",
     "metadata": {},
     "source": [
      "The translational velocity for the right wing is defined as\n",
      "\n",
      "$$\n",
      "v(\\tau)=\n",
      "\\begin{cases}\n",
      "    0 & \\text{, } 0 \\leq \\tau < \\tau_\\text{acc,f} \\\\\n",
      "    \\frac{v_\\text{max}}{2} \\left[ 1 + \\cos\\left( \\pi + \\frac{\\pi \\left(\\tau - \\tau_\\text{acc,f}\\right)}{\\Delta\\tau_\\text{acc}} \\right) \\right] & \\text{, } \\tau_\\text{acc,f} \\leq \\tau < \\tau_\\text{acc,f}+\\Delta\\tau_\\text{acc} \\\\\n",
      "    v_\\text{max} & \\text{, } \\tau_\\text{acc,f}+\\Delta\\tau_\\text{acc} \\leq \\tau < \\tau_\\text{dec,f} \\\\\n",
      "    \\frac{v_\\text{max}}{2} \\left[ 1 - \\cos\\left( \\pi + \\frac{\\pi \\left(\\tau - \\tau_\\text{dec,f}\\right)}{\\Delta\\tau_\\text{dec}} \\right) \\right] & \\text{, } \\tau_\\text{dec,f} \\leq \\tau < \\tau_\\text{dec,f}+\\Delta\\tau_\\text{dec} \\\\\n",
      "    0 & \\text{, } \\tau_\\text{dec,f}+\\Delta\\tau_\\text{dec} \\leq \\tau < \\tau_\\text{acc,c} \\\\\n",
      "    -\\frac{v_\\text{max}}{2} \\left[ 1 + \\cos\\left( \\pi + \\frac{\\pi \\left(\\tau - \\tau_\\text{acc,c}\\right)}{\\Delta\\tau_\\text{acc}} \\right) \\right] & \\text{, } \\tau_\\text{acc,c} \\leq \\tau < \\tau_\\text{acc,c}+\\Delta\\tau_\\text{acc} \\\\\n",
      "    -v_\\text{max} & \\text{, } \\tau_\\text{acc,c}+\\Delta\\tau_\\text{acc} \\leq \\tau < \\tau_\\text{dec,c} \\\\\n",
      "    -\\frac{v_\\text{max}}{2} \\left[ 1 - \\cos\\left( \\pi + \\frac{\\pi \\left(\\tau - \\tau_\\text{dec,c}\\right)}{\\Delta\\tau_\\text{dec}} \\right) \\right] & \\text{, } \\tau_\\text{dec,c} \\leq \\tau < \\tau_\\text{dec,c}+\\Delta\\tau_\\text{dec} \\\\\n",
      "    0 & \\text{, } \\tau_\\text{dec,c}+\\Delta\\tau_\\text{dec} \\leq \\tau < T\n",
      "\\end{cases}\n",
      "$$"
     ]
    },
    {
     "cell_type": "code",
     "collapsed": false,
     "input": [
      "for i, t in enumerate(t_values):\n",
      "    \n",
      "    if 0.0 <= t < t_acc_fling:\n",
      "        v[i] = 0.0\n",
      "    \n",
      "    elif t_acc_fling <= t < t_acc_fling+dt_acc:\n",
      "        v[i] = v_max/2. * (1 + cos(pi + pi*(t-t_acc_fling)/dt_acc))\n",
      "    \n",
      "    elif t_acc_fling+dt_acc <= t < t_dec_fling:\n",
      "        v[i] = v_max\n",
      "    \n",
      "    elif t_dec_fling <= t < t_dec_fling+dt_dec:\n",
      "        v[i] = v_max/2. * (1 - cos(pi + pi*(t-t_dec_fling)/dt_dec))\n",
      "    \n",
      "    elif t_dec_fling+dt_dec <= t < t_acc_clap:\n",
      "        v[i] = 0.0\n",
      "    \n",
      "    elif t_acc_clap <= t < t_acc_clap+dt_acc:\n",
      "        v[i] = -v_max/2. * (1 + cos(pi + pi*(t-t_acc_clap)/dt_acc))\n",
      "    \n",
      "    elif t_acc_clap+dt_acc <= t < t_dec_clap:\n",
      "        v[i] = -v_max\n",
      "    \n",
      "    elif t_dec_clap <= t < t_dec_clap+dt_dec:\n",
      "        v[i] = -v_max/2. * (1 - cos(pi + pi*(t-t_dec_clap)/dt_dec))\n",
      "        \n",
      "    else:\n",
      "        v[i] = 0.0"
     ],
     "language": "python",
     "metadata": {},
     "outputs": [],
     "prompt_number": 13
    },
    {
     "cell_type": "markdown",
     "metadata": {},
     "source": [
      "During the rotational phase, the wings rotate about the leading or trailing edges. The angular velocity $\\omega$ of the right wing is given by\n",
      "\n",
      "$$\n",
      "\\omega(\\tau)=\n",
      "\\begin{cases}\n",
      "    \\frac{\\omega_\\text{max}}{2} \\left[ 1 - \\cos\\left( 2\\pi \\frac{\\tau - \\tau_\\text{turn,1}}{\\Delta\\tau_\\text{rot}} \\right) \\right] & \\text{, } 0 \\leq \\tau < \\Delta\\tau_\\text{rot} \\\\\n",
      "    0 & \\text{, } \\Delta\\tau_\\text{rot} \\leq \\tau < \\frac{T}{2}-\\Delta\\tau_\\text{rot} \\\\\n",
      "    -\\frac{\\omega_\\text{max}}{2} \\left[ 1 - \\cos\\left( 2\\pi \\frac{\\tau - \\tau_\\text{turn,2}}{\\Delta\\tau_\\text{rot}} \\right) \\right] & \\text{, } \\frac{T}{2}-\\Delta\\tau_\\text{rot} \\leq \\tau < \\frac{T}{2} \\\\\n",
      "    -\\frac{\\omega_\\text{max}}{2} \\left[ 1 - \\cos\\left( 2\\pi \\frac{\\tau - \\tau_\\text{turn,3}}{\\Delta\\tau_\\text{rot}} \\right) \\right] & \\text{, } \\frac{T}{2} \\leq \\tau < \\frac{T}{2}+\\Delta\\tau_\\text{rot} \\\\\n",
      "    0 & \\text{, } \\frac{T}{2}+\\Delta\\tau_\\text{rot} \\leq \\tau < T-\\Delta\\tau_\\text{rot} \\\\\n",
      "    \\frac{\\omega_\\text{max}}{2} \\left[ 1 - \\cos\\left( 2\\pi \\frac{\\tau - \\tau_\\text{turn,4}}{\\Delta\\tau_\\text{rot}} \\right) \\right] & \\text{, } T-\\Delta\\tau_\\text{rot} \\leq \\tau < T\n",
      "\\end{cases}\n",
      "$$"
     ]
    },
    {
     "cell_type": "markdown",
     "metadata": {},
     "source": [
      "where\n",
      "\n",
      "$$ \\omega_\\text{max} = \\frac{2\\Delta\\theta v_\\text{max}}{\\Delta\\tau_\\text{rot} C} $$\n",
      "\n",
      "is a constant determined by the total  angle of rotation or angle of attack $\\Delta\\theta$ and by the duration of the rotation phase $\\Delta\\tau_\\text{rot}$."
     ]
    },
    {
     "cell_type": "code",
     "collapsed": false,
     "input": [
      "w_max = 2.*dtheta*v_max/(dt_rot*C)"
     ],
     "language": "python",
     "metadata": {},
     "outputs": [],
     "prompt_number": 14
    },
    {
     "cell_type": "markdown",
     "metadata": {},
     "source": [
      "and $\\tau_\\text{turn,1}$, $\\tau_\\text{turn,2}$, $\\tau_\\text{turn,3}$ and $\\tau_\\text{turn,4}$ represent the times at which the rotation begin."
     ]
    },
    {
     "cell_type": "code",
     "collapsed": false,
     "input": [
      "t_turn1 = 0.0\n",
      "t_turn2 = T/2. - dt_rot\n",
      "t_turn3 = T/2.\n",
      "t_turn4 = T - dt_rot"
     ],
     "language": "python",
     "metadata": {},
     "outputs": [],
     "prompt_number": 15
    },
    {
     "cell_type": "code",
     "collapsed": false,
     "input": [
      "for i, t in enumerate(t_values):\n",
      "    \n",
      "    if 0.0 <= t < dt_rot:\n",
      "        w[i] = w_max/2. * (1 - cos(2*pi*(t-t_turn1)/dt_rot))\n",
      "        \n",
      "    elif dt_rot <= t < T/2-dt_rot:\n",
      "        w[i] = 0.0\n",
      "    \n",
      "    elif T/2-dt_rot <= t < T/2:\n",
      "        w[i] = -w_max/2. * (1 - cos(2*pi*(t-t_turn2)/dt_rot))\n",
      "    \n",
      "    elif T/2 <= t < T/2+dt_rot:\n",
      "        w[i] = -w_max/2. * (1 - cos(2*pi*(t-t_turn3)/dt_rot))\n",
      "    \n",
      "    elif T/2+dt_rot <= t < T-dt_rot:\n",
      "        w[i] = 0.0\n",
      "    \n",
      "    else:\n",
      "        w[i] = w_max/2. * (1 - cos(2*pi*(t-t_turn4)/dt_rot))"
     ],
     "language": "python",
     "metadata": {},
     "outputs": [],
     "prompt_number": 16
    },
    {
     "cell_type": "code",
     "collapsed": false,
     "input": [
      "import matplotlib.pyplot as plt\n",
      "%matplotlib inline\n",
      "\n",
      "plt.figure()\n",
      "plt.grid(True)\n",
      "plt.xlabel(r'$x$', fontsize=16)\n",
      "plt.plot(t_values, v, 'b-')\n",
      "plt.plot(t_values, w, 'r-')\n",
      "plt.legend(['translational velocity', 'angular velocity'], loc='best');"
     ],
     "language": "python",
     "metadata": {},
     "outputs": [
      {
       "metadata": {},
       "output_type": "display_data",
       "png": "[encoded data removed]",
       "text": [
        "<matplotlib.figure.Figure at 0x1066b6b50>"
       ]
      }
     ],
     "prompt_number": 17
    },
    {
     "cell_type": "code",
     "collapsed": false,
     "input": [],
     "language": "python",
     "metadata": {},
     "outputs": [],
     "prompt_number": 17
    }
   ],
   "metadata": {}
  }
 ]
}