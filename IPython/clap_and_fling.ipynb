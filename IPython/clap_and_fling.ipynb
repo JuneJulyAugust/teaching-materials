{
 "metadata": {
  "name": "",
  "signature": "sha256:03264a85cae23817381fb0b3f54b4478e0d465aeb88cc6738e868fae8568ed20"
 },
 "nbformat": 3,
 "nbformat_minor": 0,
 "worksheets": [
  {
   "cells": [
    {
     "cell_type": "markdown",
     "metadata": {},
     "source": [
      "The cell below loads the style of the notebook."
     ]
    },
    {
     "cell_type": "code",
     "collapsed": false,
     "input": [
      "from IPython.core.display import HTML\n",
      "def css_styling():\n",
      "    styles = open('./styles/custom.css', 'r').read()\n",
      "    return HTML(styles)\n",
      "css_styling()"
     ],
     "language": "python",
     "metadata": {},
     "outputs": [
      {
       "html": [
        "<link href='http://fonts.googleapis.com/css?family=Fenix' rel='stylesheet' type='text/css'>\n",
        "<link href='http://fonts.googleapis.com/css?family=Alegreya+Sans:100,300,400,500,700,800,900,100italic,300italic,400italic,500italic,700italic,800italic,900italic' rel='stylesheet' type='text/css'>\n",
        "<link href='http://fonts.googleapis.com/css?family=Source+Code+Pro:300,400' rel='stylesheet' type='text/css'>\n",
        "<style>\n",
        "    @font-face {\n",
        "        font-family: \"Computer Modern\";\n",
        "        src: url('http://mirrors.ctan.org/fonts/cm-unicode/fonts/otf/cmunss.otf');\n",
        "    }\n",
        "    div.cell{\n",
        "        width:800px;\n",
        "        margin-left:16% !important;\n",
        "        margin-right:auto;\n",
        "    }\n",
        "    h1 {\n",
        "        font-family: 'Alegreya Sans', sans-serif;\n",
        "    }\n",
        "    h2 {\n",
        "        font-family: 'Fenix', serif;\n",
        "    }\n",
        "    h3{\n",
        "\t\tfont-family: 'Fenix', serif;\n",
        "        margin-top:12px;\n",
        "        margin-bottom: 3px;\n",
        "       }\n",
        "\th4{\n",
        "\t\tfont-family: 'Fenix', serif;\n",
        "       }\n",
        "    h5 {\n",
        "        font-family: 'Alegreya Sans', sans-serif;\n",
        "    }\t   \n",
        "    div.text_cell_render{\n",
        "        font-family: 'Alegreya Sans',Computer Modern, \"Helvetica Neue\", Arial, Helvetica, Geneva, sans-serif;\n",
        "        line-height: 135%;\n",
        "        font-size: 120%;\n",
        "        width:600px;\n",
        "        margin-left:auto;\n",
        "        margin-right:auto;\n",
        "    }\n",
        "    .CodeMirror{\n",
        "            font-family: \"Source Code Pro\";\n",
        "\t\t\tfont-size: 90%;\n",
        "    }\n",
        "/*    .prompt{\n",
        "        display: None;\n",
        "    }*/\n",
        "    .text_cell_render h1 {\n",
        "        font-weight: 200;\n",
        "        font-size: 50pt;\n",
        "\t\tline-height: 100%;\n",
        "        color:#CD2305;\n",
        "        margin-bottom: 0.5em;\n",
        "        margin-top: 0.5em;\n",
        "        display: block;\n",
        "    }\t\n",
        "    .text_cell_render h5 {\n",
        "        font-weight: 300;\n",
        "        font-size: 16pt;\n",
        "        color: #CD2305;\n",
        "        font-style: italic;\n",
        "        margin-bottom: .5em;\n",
        "        margin-top: 0.5em;\n",
        "        display: block;\n",
        "    }\n",
        "    \n",
        "    .warning{\n",
        "        color: rgb( 240, 20, 20 )\n",
        "        }  \n",
        "</style>\n",
        "<script>\n",
        "    MathJax.Hub.Config({\n",
        "                        TeX: {\n",
        "                           extensions: [\"AMSmath.js\"]\n",
        "                           },\n",
        "                tex2jax: {\n",
        "                    inlineMath: [ ['$','$'], [\"\\\\(\",\"\\\\)\"] ],\n",
        "                    displayMath: [ ['$$','$$'], [\"\\\\[\",\"\\\\]\"] ]\n",
        "                },\n",
        "                displayAlign: 'center', // Change this to 'center' to center equations.\n",
        "                \"HTML-CSS\": {\n",
        "                    styles: {'.MathJax_Display': {\"margin\": 4}}\n",
        "                }\n",
        "        });\n",
        "</script>\n"
       ],
       "metadata": {},
       "output_type": "pyout",
       "prompt_number": 1,
       "text": [
        "<IPython.core.display.HTML at 0x10239a750>"
       ]
      }
     ],
     "prompt_number": 1
    },
    {
     "cell_type": "markdown",
     "metadata": {},
     "source": [
      "---"
     ]
    },
    {
     "cell_type": "heading",
     "level": 1,
     "metadata": {},
     "source": [
      "Introduction to IPython Notebook"
     ]
    },
    {
     "cell_type": "markdown",
     "metadata": {},
     "source": [
      "The goal of IPython is to create a comprehensive environment for interactive and exploratory computing. Provide an interactive shell superior to Python's default.\n",
      "\n",
      "IPython is not a different programming language, it is just a set of computer programs for working with the Python language.\n",
      "\n",
      "Installing IPython Notebook:\n",
      "\n",
      "There are a number of ways to install IPython Notebook. If you are using, we recommand you download and install [Anaconda](http://docs.continuum.io/anaconda/install.html), which is a free installer of Python together with many other useful tools (including IPython Notebook).\n",
      "\n",
      "Anaconda comes with its own version of `Python 2.7`, IPython Notebook, plus other libraries like `matplotlib` and `Numpy` and a package manager `conda`.\n",
      "\n",
      "To install Anaconda on your machine, click [here](http://docs.continuum.io/anaconda/install.html)!\n",
      "\n",
      "You interact with IPython Notebook using your web browser. The Notebook program creates a \"web server\" locally on your machine that you connect to.\n",
      "\n",
      "On Linux or OS X, you can start IPython Notebook from the command line. To do that, open a terminal, go to your working directory (which contains your Python and IPython Notebook files) and run the following command:\n",
      "\n",
      "$ ipython notebook\n",
      "\n",
      "A browser window should automatically open showing the IPython Notebook interface:\n",
      "\n",
      "<center>![image](files/resources/ipython_notebook_interface.png)</center>\n",
      "\n",
      "Click on \"New Notebook\" button to start using Python in an interactive way!"
     ]
    },
    {
     "cell_type": "markdown",
     "metadata": {},
     "source": [
      "---"
     ]
    },
    {
     "cell_type": "heading",
     "level": 1,
     "metadata": {},
     "source": [
      "Clap & Fling"
     ]
    },
    {
     "cell_type": "markdown",
     "metadata": {},
     "source": [
      "While analyzing the hovering motion of an insect, Weis-Fogh (1973) proposed a novel aerodynamic mechanism that enhanced lift during flight. This mechanism became known as the *Weis-Fogh mechanism*, and the corresponding motion has been termed **clap and fling**.\n",
      "\n",
      "The clap-and-fling mechanism is mostly used by insects; however, some birds have developed this function as well. For example, the pigeon uses this technique during lift-off (see photograph, credit: Joe Hancuff [@joehancuff](https://twitter.com/joehancuff) on Twitter) producing a recognizable sound.\n",
      "\n",
      "<center>![image](files/resources/clap_and_fling_pigeon_hancuff.png)</center>"
     ]
    },
    {
     "cell_type": "markdown",
     "metadata": {},
     "source": [
      "The cell below imports the libraries that will be used in this notebook."
     ]
    },
    {
     "cell_type": "code",
     "collapsed": false,
     "input": [
      "from math import *\n",
      "import numpy as np\n",
      "\n",
      "import matplotlib.pyplot as plt\n",
      "%matplotlib inline\n",
      "\n",
      "import plotly.plotly as py\n",
      "from plotly.graph_objs import *"
     ],
     "language": "python",
     "metadata": {},
     "outputs": [],
     "prompt_number": 2
    },
    {
     "cell_type": "heading",
     "level": 2,
     "metadata": {},
     "source": [
      "Kinematic model of \"clap and fling\" motion"
     ]
    },
    {
     "cell_type": "markdown",
     "metadata": {},
     "source": [
      "The kinematics of flapping wings can be decomposed into 4 phases: *downstroke*, *supination*, *upstroke* and *pronation*.\n",
      "\n",
      "* *upstroke*: ventral to dorsal motion,\n",
      "* *downstroke*: dorsal to ventral motion,\n",
      "* *supination*: rotational transition from downstroke to upstroke that causes the ventral side to face upward,\n",
      "* *pronation*: opposite of *supination* that results in ventral side facing downward during transition from upstroke to downstroke."
     ]
    },
    {
     "cell_type": "markdown",
     "metadata": {},
     "source": [
      "$C$ is the chord length of the wing and the we define the aspect ratio of the wing as the chord length to thickness ratio."
     ]
    },
    {
     "cell_type": "code",
     "collapsed": false,
     "input": [
      "C = 0.05\n",
      "AR = 10"
     ],
     "language": "python",
     "metadata": {},
     "outputs": [],
     "prompt_number": 3
    },
    {
     "cell_type": "markdown",
     "metadata": {},
     "source": [
      "$v_\\text{max}$ represents the maximum translational velocity and $\\Delta\\theta$ the angle of attack of the wing."
     ]
    },
    {
     "cell_type": "code",
     "collapsed": false,
     "input": [
      "v_max = 1.0\n",
      "dtheta = 45.0"
     ],
     "language": "python",
     "metadata": {},
     "outputs": [],
     "prompt_number": 4
    },
    {
     "cell_type": "markdown",
     "metadata": {},
     "source": [
      "The variable $D$ defines the gap between the 2 wings and is expressed in terms of fraction of the chord length $C$ through the parameter $\\delta$:\n",
      "\n",
      "$$\\delta = \\frac{D}{C}$$"
     ]
    },
    {
     "cell_type": "code",
     "collapsed": false,
     "input": [
      "delta = 0.1\n",
      "D = delta * C"
     ],
     "language": "python",
     "metadata": {},
     "outputs": [],
     "prompt_number": 5
    },
    {
     "cell_type": "markdown",
     "metadata": {},
     "source": [
      "<center>![image](files/resources/layout_wings_arora_et_al_2014.png)</center>"
     ]
    },
    {
     "cell_type": "markdown",
     "metadata": {},
     "source": [
      "$\\xi$ is the translational rotational overlap, defined as the percentage of the rotation phase in which translation also occurs."
     ]
    },
    {
     "cell_type": "code",
     "collapsed": false,
     "input": [
      "xi = 0.5"
     ],
     "language": "python",
     "metadata": {},
     "outputs": [],
     "prompt_number": 6
    },
    {
     "cell_type": "markdown",
     "metadata": {},
     "source": [
      "* $\\Delta\\tau_\\text{acc}$ is the duration of translational **acceleration**,\n",
      "* $\\Delta\\tau_\\text{dec}$ is the duration of translational **deceleration**,\n",
      "* $\\Delta\\tau_\\text{s}$ si the duration of the **steady translation**.\n",
      "\n",
      "* $\\Delta\\tau_\\text{rot}$ is the duration of the rotation phase"
     ]
    },
    {
     "cell_type": "code",
     "collapsed": false,
     "input": [
      "dt_acc = 1.3\n",
      "dt_dec = 1.3\n",
      "dt_s = 3.4\n",
      "dt_rot = 1.74"
     ],
     "language": "python",
     "metadata": {},
     "outputs": [],
     "prompt_number": 7
    },
    {
     "cell_type": "markdown",
     "metadata": {},
     "source": [
      "The duration of one complete cycle, $T$, is defined as\n",
      "\n",
      "$$ T = 2 \\left[ 2\\Delta\\tau_\\text{rot} \\left(1-\\xi\\right) + \\Delta\\tau_\\text{acc} + \\Delta\\tau_\\text{s} + \\Delta\\tau_\\text{dec} \\right] $$"
     ]
    },
    {
     "cell_type": "code",
     "collapsed": false,
     "input": [
      "T = 2 * (2*dt_rot*(1-xi) + dt_acc + dt_s + dt_dec)"
     ],
     "language": "python",
     "metadata": {},
     "outputs": [],
     "prompt_number": 8
    },
    {
     "cell_type": "markdown",
     "metadata": {},
     "source": [
      "* $\\tau_\\text{acc,f}$ is the time when translational **acceleration** begins during the **fling**,\n",
      "* $\\tau_\\text{dec,f}$ is the time when translational **deceleration** begins during the **fling**,\n",
      "* $\\tau_\\text{acc,c}$ is the time when translational **acceleration** begins during the **clap**,\n",
      "* $\\tau_\\text{dec,c}$ is the time when translational **deceleration** begins during the **clap**."
     ]
    },
    {
     "cell_type": "code",
     "collapsed": false,
     "input": [
      "t_acc_fling = (1.-xi) * dt_rot\n",
      "t_dec_fling = t_acc_fling + dt_acc + dt_s\n",
      "\n",
      "t_acc_clap = T/2. + (1.-xi) * dt_rot\n",
      "t_dec_clap = t_acc_clap + dt_acc + dt_s"
     ],
     "language": "python",
     "metadata": {},
     "outputs": [],
     "prompt_number": 9
    },
    {
     "cell_type": "markdown",
     "metadata": {},
     "source": [
      "To calculate the translational and angular velocities of the wing as a function, we discretize the time over the duration of a complete cycle $T$, using the `Numpy` function [`linspace()`](http://docs.scipy.org/doc/numpy/reference/generated/numpy.linspace.html)."
     ]
    },
    {
     "cell_type": "code",
     "collapsed": false,
     "input": [
      "N = 200    # number of time values\n",
      "t_values = np.linspace(0.0, T, N+1)    # time discretization"
     ],
     "language": "python",
     "metadata": {},
     "outputs": [],
     "prompt_number": 10
    },
    {
     "cell_type": "markdown",
     "metadata": {},
     "source": [
      "We initialize the `Numpy` arrays containing the translational `v` and angular `w` velocities using the function [`empty_like()`](http://docs.scipy.org/doc/numpy/reference/generated/numpy.empty_like.html)."
     ]
    },
    {
     "cell_type": "code",
     "collapsed": false,
     "input": [
      "v = np.empty_like(t_values)    # translational velocity\n",
      "w = np.empty_like(t_values)    # angular velocity"
     ],
     "language": "python",
     "metadata": {},
     "outputs": [],
     "prompt_number": 11
    },
    {
     "cell_type": "markdown",
     "metadata": {},
     "source": [
      "The translational velocity for the right wing is defined as\n",
      "\n",
      "$$\n",
      "v(\\tau)=\n",
      "\\begin{cases}\n",
      "    0 & \\text{, } 0 \\leq \\tau < \\tau_\\text{acc,f} \\\\\n",
      "    \\frac{v_\\text{max}}{2} \\left[ 1 + \\cos\\left( \\pi + \\frac{\\pi \\left(\\tau - \\tau_\\text{acc,f}\\right)}{\\Delta\\tau_\\text{acc}} \\right) \\right] & \\text{, } \\tau_\\text{acc,f} \\leq \\tau < \\tau_\\text{acc,f}+\\Delta\\tau_\\text{acc} \\\\\n",
      "    v_\\text{max} & \\text{, } \\tau_\\text{acc,f}+\\Delta\\tau_\\text{acc} \\leq \\tau < \\tau_\\text{dec,f} \\\\\n",
      "    \\frac{v_\\text{max}}{2} \\left[ 1 - \\cos\\left( \\pi + \\frac{\\pi \\left(\\tau - \\tau_\\text{dec,f}\\right)}{\\Delta\\tau_\\text{dec}} \\right) \\right] & \\text{, } \\tau_\\text{dec,f} \\leq \\tau < \\tau_\\text{dec,f}+\\Delta\\tau_\\text{dec} \\\\\n",
      "    0 & \\text{, } \\tau_\\text{dec,f}+\\Delta\\tau_\\text{dec} \\leq \\tau < \\tau_\\text{acc,c} \\\\\n",
      "    -\\frac{v_\\text{max}}{2} \\left[ 1 + \\cos\\left( \\pi + \\frac{\\pi \\left(\\tau - \\tau_\\text{acc,c}\\right)}{\\Delta\\tau_\\text{acc}} \\right) \\right] & \\text{, } \\tau_\\text{acc,c} \\leq \\tau < \\tau_\\text{acc,c}+\\Delta\\tau_\\text{acc} \\\\\n",
      "    -v_\\text{max} & \\text{, } \\tau_\\text{acc,c}+\\Delta\\tau_\\text{acc} \\leq \\tau < \\tau_\\text{dec,c} \\\\\n",
      "    -\\frac{v_\\text{max}}{2} \\left[ 1 - \\cos\\left( \\pi + \\frac{\\pi \\left(\\tau - \\tau_\\text{dec,c}\\right)}{\\Delta\\tau_\\text{dec}} \\right) \\right] & \\text{, } \\tau_\\text{dec,c} \\leq \\tau < \\tau_\\text{dec,c}+\\Delta\\tau_\\text{dec} \\\\\n",
      "    0 & \\text{, } \\tau_\\text{dec,c}+\\Delta\\tau_\\text{dec} \\leq \\tau < T\n",
      "\\end{cases}\n",
      "$$"
     ]
    },
    {
     "cell_type": "code",
     "collapsed": false,
     "input": [
      "def translational_velocity(t):\n",
      "    \"\"\"Returns the translational velocity as a function of time.\n",
      "    \n",
      "    Arguments\n",
      "    ---------\n",
      "    t -- the time value.\n",
      "    \"\"\"\n",
      "    if 0.0 <= t < t_acc_fling:\n",
      "        v = 0.0\n",
      "    elif t_acc_fling <= t < t_acc_fling+dt_acc:\n",
      "        v = v_max/2. * (1 + cos(pi + pi*(t-t_acc_fling)/dt_acc))\n",
      "    elif t_acc_fling+dt_acc <= t < t_dec_fling:\n",
      "        v = v_max\n",
      "    elif t_dec_fling <= t < t_dec_fling+dt_dec:\n",
      "        v = v_max/2. * (1 - cos(pi + pi*(t-t_dec_fling)/dt_dec))\n",
      "    elif t_dec_fling+dt_dec <= t < t_acc_clap:\n",
      "        v = 0.0\n",
      "    elif t_acc_clap <= t < t_acc_clap+dt_acc:\n",
      "        v = -v_max/2. * (1 + cos(pi + pi*(t-t_acc_clap)/dt_acc))\n",
      "    elif t_acc_clap+dt_acc <= t < t_dec_clap:\n",
      "        v = -v_max\n",
      "    elif t_dec_clap <= t < t_dec_clap+dt_dec:\n",
      "        v = -v_max/2. * (1 - cos(pi + pi*(t-t_dec_clap)/dt_dec))\n",
      "    else:\n",
      "        v = 0.0\n",
      "    return v"
     ],
     "language": "python",
     "metadata": {},
     "outputs": [],
     "prompt_number": 12
    },
    {
     "cell_type": "markdown",
     "metadata": {},
     "source": [
      "During the rotational phase, the wings rotate about the leading or trailing edges. The angular velocity $\\omega$ of the right wing is given by\n",
      "\n",
      "$$\n",
      "\\omega(\\tau)=\n",
      "\\begin{cases}\n",
      "    \\frac{\\omega_\\text{max}}{2} \\left[ 1 - \\cos\\left( 2\\pi \\frac{\\tau - \\tau_\\text{turn,1}}{\\Delta\\tau_\\text{rot}} \\right) \\right] & \\text{, } 0 \\leq \\tau < \\Delta\\tau_\\text{rot} \\\\\n",
      "    0 & \\text{, } \\Delta\\tau_\\text{rot} \\leq \\tau < \\frac{T}{2}-\\Delta\\tau_\\text{rot} \\\\\n",
      "    -\\frac{\\omega_\\text{max}}{2} \\left[ 1 - \\cos\\left( 2\\pi \\frac{\\tau - \\tau_\\text{turn,2}}{\\Delta\\tau_\\text{rot}} \\right) \\right] & \\text{, } \\frac{T}{2}-\\Delta\\tau_\\text{rot} \\leq \\tau < \\frac{T}{2} \\\\\n",
      "    -\\frac{\\omega_\\text{max}}{2} \\left[ 1 - \\cos\\left( 2\\pi \\frac{\\tau - \\tau_\\text{turn,3}}{\\Delta\\tau_\\text{rot}} \\right) \\right] & \\text{, } \\frac{T}{2} \\leq \\tau < \\frac{T}{2}+\\Delta\\tau_\\text{rot} \\\\\n",
      "    0 & \\text{, } \\frac{T}{2}+\\Delta\\tau_\\text{rot} \\leq \\tau < T-\\Delta\\tau_\\text{rot} \\\\\n",
      "    \\frac{\\omega_\\text{max}}{2} \\left[ 1 - \\cos\\left( 2\\pi \\frac{\\tau - \\tau_\\text{turn,4}}{\\Delta\\tau_\\text{rot}} \\right) \\right] & \\text{, } T-\\Delta\\tau_\\text{rot} \\leq \\tau < T\n",
      "\\end{cases}\n",
      "$$"
     ]
    },
    {
     "cell_type": "markdown",
     "metadata": {},
     "source": [
      "where\n",
      "\n",
      "$$ \\omega_\\text{max} = \\frac{2\\Delta\\theta v_\\text{max}}{\\Delta\\tau_\\text{rot} C} $$\n",
      "\n",
      "is a constant determined by the total  angle of rotation or angle of attack $\\Delta\\theta$ and by the duration of the rotation phase $\\Delta\\tau_\\text{rot}$."
     ]
    },
    {
     "cell_type": "code",
     "collapsed": false,
     "input": [
      "w_max = 2.*(dtheta*pi/180.)*v_max/(dt_rot*C)"
     ],
     "language": "python",
     "metadata": {},
     "outputs": [],
     "prompt_number": 13
    },
    {
     "cell_type": "markdown",
     "metadata": {},
     "source": [
      "and $\\tau_\\text{turn,1}$, $\\tau_\\text{turn,2}$, $\\tau_\\text{turn,3}$ and $\\tau_\\text{turn,4}$ represent the times at which the rotation begin."
     ]
    },
    {
     "cell_type": "code",
     "collapsed": false,
     "input": [
      "t_turn1 = 0.0\n",
      "t_turn2 = T/2. - dt_rot\n",
      "t_turn3 = T/2.\n",
      "t_turn4 = T - dt_rot"
     ],
     "language": "python",
     "metadata": {},
     "outputs": [],
     "prompt_number": 14
    },
    {
     "cell_type": "code",
     "collapsed": false,
     "input": [
      "def angular_velocity(t):\n",
      "    \"\"\"Returns the angular velocity as a function of time.\n",
      "    \n",
      "    Arguments\n",
      "    ---------\n",
      "    t -- the time value.\n",
      "    \"\"\"\n",
      "    if 0.0 <= t < dt_rot:\n",
      "        w = w_max/2. * (1 - cos(2*pi*(t-t_turn1)/dt_rot))\n",
      "    elif dt_rot <= t < T/2-dt_rot:\n",
      "        w = 0.0\n",
      "    elif T/2-dt_rot <= t < T/2:\n",
      "        w = -w_max/2. * (1 - cos(2*pi*(t-t_turn2)/dt_rot))\n",
      "    elif T/2 <= t < T/2+dt_rot:\n",
      "        w = -w_max/2. * (1 - cos(2*pi*(t-t_turn3)/dt_rot))\n",
      "    elif T/2+dt_rot <= t < T-dt_rot:\n",
      "        w = 0.0\n",
      "    else:\n",
      "        w = w_max/2. * (1 - cos(2*pi*(t-t_turn4)/dt_rot))\n",
      "    return w"
     ],
     "language": "python",
     "metadata": {},
     "outputs": [],
     "prompt_number": 15
    },
    {
     "cell_type": "markdown",
     "metadata": {},
     "source": [
      "Now, we can loop over the time values to compute the translational and angular velocities using the functions `translational_velocity()` and `angular_velocity()` defined above."
     ]
    },
    {
     "cell_type": "code",
     "collapsed": false,
     "input": [
      "# compute the translational and angular velocities as a function of time\n",
      "for i, t in enumerate(t_values):\n",
      "    v[i] = translational_velocity(t)\n",
      "    w[i] = angular_velocity(t)"
     ],
     "language": "python",
     "metadata": {},
     "outputs": [],
     "prompt_number": 16
    },
    {
     "cell_type": "code",
     "collapsed": false,
     "input": [
      "plt.figure(figsize=(8, 6))\n",
      "plt.grid(True)\n",
      "plt.xlabel('dimensionless time', fontsize=18)\n",
      "plt.ylabel('dimensionless velocity', fontsize=18)\n",
      "plt.plot(t_values, v/v_max, 'b-')\n",
      "plt.plot(t_values, w/w_max, 'r-')\n",
      "plt.xlim(0.0, t_values[-1])\n",
      "plt.ylim(-1.1, +1.1)\n",
      "plt.legend(['translational velocity', 'angular velocity'], loc='best');"
     ],
     "language": "python",
     "metadata": {},
     "outputs": [
      {
       "metadata": {},
       "output_type": "display_data",
       "png": "[encoded data removed]",
       "text": [
        "<matplotlib.figure.Figure at 0x1066e27d0>"
       ]
      }
     ],
     "prompt_number": 17
    },
    {
     "cell_type": "heading",
     "level": 2,
     "metadata": {},
     "source": [
      "Plotly to plot"
     ]
    },
    {
     "cell_type": "code",
     "collapsed": false,
     "input": [
      "py.sign_in(\"mesnardo\", \"9s59dux14e\")\n",
      "\n",
      "trans_vel_data = Scatter(x=t_values, y=v/v_max, \n",
      "                         mode='lines',\n",
      "                         name = 'translational velocity')\n",
      "\n",
      "ang_vel_data = Scatter(x=t_values, y=w/w_max,\n",
      "                       mode='lines',\n",
      "                       name='angular velocity')\n",
      "\n",
      "data = Data([trans_vel_data, ang_vel_data])\n",
      "\n",
      "layout = Layout(title='Clap and Fling Kinematics',\n",
      "                xaxis=XAxis(title='dimensionless time', \n",
      "                            showgrid=True,\n",
      "                            titlefont=Font(family='Courier New, monospace',\n",
      "                                           size=18,\n",
      "                                           color='#7f7f7f')),\n",
      "                yaxis=YAxis(title='dimensionless velocity', \n",
      "                            showgrid=True,\n",
      "                            titlefont=Font(family='Courier New, monospace',\n",
      "                                           size=18,\n",
      "                                           color='#7f7f7f')))\n",
      "\n",
      "fig = Figure(data=data, layout=layout)\n",
      "py.iplot(fig)\n",
      "\n",
      "#plot_url = py.plot(fig, filename='clap_and_fling_kinematics')"
     ],
     "language": "python",
     "metadata": {},
     "outputs": [
      {
       "html": [
        "<iframe id=\"igraph\" scrolling=\"no\" style=\"border:none;\"seamless=\"seamless\" src=\"https://plot.ly/~mesnardo/14\" height=\"525\" width=\"100%\"></iframe>"
       ],
       "metadata": {},
       "output_type": "display_data",
       "text": [
        "<IPython.core.display.HTML at 0x1066c3610>"
       ]
      }
     ],
     "prompt_number": 18
    },
    {
     "cell_type": "code",
     "collapsed": false,
     "input": [],
     "language": "python",
     "metadata": {},
     "outputs": [],
     "prompt_number": 18
    }
   ],
   "metadata": {}
  }
 ]
}