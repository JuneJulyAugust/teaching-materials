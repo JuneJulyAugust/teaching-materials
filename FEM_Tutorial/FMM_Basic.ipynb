{
 "metadata": {
  "name": "",
  "signature": "sha256:06e685d787fd67653449215097f6967f77d3fbae6a8a5b36be984f4e4de57df7"
 },
 "nbformat": 3,
 "nbformat_minor": 0,
 "worksheets": [
  {
   "cells": [
    {
     "cell_type": "heading",
     "level": 1,
     "metadata": {},
     "source": [
      "Basic"
     ]
    },
    {
     "cell_type": "heading",
     "level": 2,
     "metadata": {},
     "source": [
      "Functional and its minimum"
     ]
    },
    {
     "cell_type": "heading",
     "level": 3,
     "metadata": {},
     "source": [
      "Functional"
     ]
    },
    {
     "cell_type": "markdown",
     "metadata": {},
     "source": [
      "In short, a functional is a ***function*** that its input is a function(s) and ouput is a scalar.\n",
      "\n",
      "For example, consider the famous problem of \"brachistochrone curve\" (1696, Johann Bernoulli):\n",
      "\n",
      "> If a point-like body with zero initial velocity is going to move from a given point $A$ to another point $B$, and this movement is constrained by a certain path, what is the path that makes the time of movement minimum? Assume no friction.\n",
      "\n",
      "There are infinite paths connecting $A$ and $B$ on the xy coordinate. Let us use a function $y = y(x)$ to describe these paths.  We are looking for a specific function $y(x)$ that match the specification of the problem.\n",
      "\n",
      "<img src=\"files/figs/brachistochrone.JPG\" alt=\"brachistochrone curve\" height=\"300\" width=\"300\">\n",
      "\n",
      "See the above figure and recall the knowledge of differential geometry, the velocity of an arbitrary point $P$ on the path is $v=ds/dt=\\sqrt{1+(y')^2}(dx/dt)$. And from the viewpoint of energy conservation, we have $0 = -mgy+\\frac{1}{2}mv^2$, i.e. $v=\\sqrt{2gy}$. Comparing the two different expressions of the velocity $v$, we can equalize them and get\n",
      "\n",
      "$$\n",
      "dt = \\sqrt{\\frac{1+(y')^2}{2gy}}dx\n",
      "$$\n",
      "\n",
      "Integrate the above equation from $t=0$ to $t=t_{AB}$ and from $x=0$ to $x=x_B$, we then obtain our first functional:\n",
      "\n",
      "$$\n",
      "J(y) = t_{AB} = \\int_0^{x_B}{\\sqrt \\frac{1+(y')^2}{2gy}} dx\n",
      "$$\n",
      "\n",
      "$J(y)$, or $t_{AB}$, is the time it takes to move from $A$ to $B$ along some certain path $y(x)$. From the above equation, it is apparently a function of $y(x)$, that is, its input is the function $y(x)$. Once we know the exact detail of the function $y(x)$, we can then evaluate the integral at the right hand side. And finally the output of $J(y)$ is a scalar. So according to the definition, $J(y)$ is indeed a functional!!"
     ]
    },
    {
     "cell_type": "heading",
     "level": 3,
     "metadata": {},
     "source": [
      "Maximum and minimum of a functional"
     ]
    },
    {
     "cell_type": "markdown",
     "metadata": {},
     "source": [
      "What's the big deal of the functional? \n",
      "\n",
      "We can see that the brachistochrone curve problem is in fact looking for the minimum of the traveling time $t_{AB}$, i.e. $J(y)$. Recall the basic calculus, we can find out the minimum of a function through its derivatives. It is the same when we deal with the functional. So functional provides us a way to find out the answers of many problems. It also provides a start point of the finite element method. We will show you that solving some of PDEs is equal to looking for the minimums of some functionals."
     ]
    },
    {
     "cell_type": "markdown",
     "metadata": {},
     "source": [
      "Consider a differential equation $Lu=f$, which is valid inside a domain $\\Omega$. $L$ is called a **differential operator**. For example, in this second order ODE\n",
      "\n",
      "$$\n",
      "\\left\\{\n",
      "\\begin{array}{l}\n",
      "-\\frac{d}{dx}\\left(p\\frac{du}{dx}\\right)+qu=f \\\\\n",
      "u(a)=\\alpha,\\ \\ u'(b)+\\sigma u(b)=\\beta\n",
      "\\end{array}\n",
      "\\right.,\\ \n",
      "\\begin{array}{l}\n",
      "x \\in (a, b); \\\\\n",
      "\\ p\\ ,\\ u,\\ q,\\ f\\text{ are functions of x};\\\\\n",
      "\\sigma,\\ \\alpha,\\ \\beta\\text{ are constants}\n",
      "\\end{array}\n",
      "$$\n",
      "\n",
      "the differential operator is $L=-\\frac{d}{dx}\\left(p\\frac{d}{dx}\\right)+q$. \n",
      "  \n",
      "Let's skip a lot of mathematical terminologies and directly point out an important theorem:\n",
      "> If $\\int_\\Omega Lu \\times u d\\Omega = 0$ is valid only when $u=0$, the solution to $Lu=f$ is also the minimum of the functional\n",
      "\n",
      "> $$ J(u) = \\frac{1}{2} \\int_\\Omega Lu\\times u d\\Omega - \\int_\\Omega f \\times u d\\Omega$$\n",
      "\n",
      "This means that when we are looking for the solution to a differential equation, we can also try to find the minimum of the above functional. Take the above differential equation as an example. After we substitute the equation and the boundary conditions into the integral in $J(u)$, we can find that the solution of the above equation is also the minimum of functional\n",
      "\n",
      "$$\n",
      "J(u) = \\frac{1}{2}a(u, u) - F(u)\n",
      "$$\n",
      "\n",
      "where functional $a$ and $F$ are defined as\n",
      "\n",
      "$$\n",
      "\\left\\{\n",
      "\\begin{array}{l}\n",
      "a(g_1(x), g_2(x))=\\int_a^b [p(x)g_1'(x)g_2'(x)+q(x)g_1(x)g_2(x)]dx+\\sigma p(b)g_1(b)g_2(b) \\\\\n",
      "F(g(x)) = \\int_a^b f(x)g(x)\\ dx + \\beta p(b)g(b)\n",
      "\\end{array}\n",
      "\\right.\n",
      "$$\n",
      "\n",
      "We know we can find the minimum of the functional instead of solving the differential equation directly, but how do we find the minimum of a functional in practice? That why we'll introduce the ***Ritz method*** in the next section."
     ]
    },
    {
     "cell_type": "heading",
     "level": 3,
     "metadata": {},
     "source": [
      "The Ritz method"
     ]
    },
    {
     "cell_type": "heading",
     "level": 5,
     "metadata": {},
     "source": [
      "Concept"
     ]
    },
    {
     "cell_type": "markdown",
     "metadata": {},
     "source": [
      "Let $u_n(x)=\\psi_0(x)+\\sum_{i=1}^{n}{\\alpha_i \\psi_i(x)}$ be an approximate solution to the exact solution $u(x)$. $\\psi_0$ to $\\psi_n$ are selected functions. For example, we can choose $\\sin(i\\pi x/n)$ as $\\psi_i(x)$. And $\\psi_0(x)$ must satisfy the same Dirichlet boundary values of the differential equation (for example, $\\psi_0(a)=\\alpha$ for the above example). $\\alpha_i$ are unknown coefficients, and we need to determine these unknown coefficients.\n",
      "\n",
      "Substitute the approximate solution $u_n$ into the functional $J(u)$, we will obtain\n",
      "\n",
      "$$\n",
      "J(u_n) = \\frac{1}{2}\\sum_{i=1}^n\\sum_{j=1}^n a(\\psi_i, \\psi_j)\\alpha_i\\alpha_j+\\sum_{i=1}^n a(\\psi_0, \\psi_i)\\alpha_i+\\frac{1}{2}a(\\psi_0,\\psi_0)-F(\\psi_0)-\\sum_{i=1}^n F(\\psi_i)\\alpha_i\n",
      "$$\n",
      "\n",
      "We said that when we want to find a minimum of a function, we use its derivatives. For example, if there is a pair of $x$ and $y$ that makes the value of function $G(x,y)$ minimal, then we can find out this pair of $x$ and $y$ through solving a system of equation: $\\frac{\\partial G}{\\partial x}=0$ and $\\frac{\\partial G}{\\partial y}=0$. For functional, it is the same. If there is a set of coefficients $\\alpha_1,\\ \\alpha_2\\dots\\alpha_n$ that makes the functional $J(u_n)$ minimal, we can obtain this set of coefficients through solving a system of equations composed of $\\frac{\\partial J(u_n)}{\\partial \\alpha_i}=0$, where $i=1\\text{ to }n$.\n",
      "\n",
      "Performing calculus on the above equation, and after getting through the pain of mathematical calculations, we now have the system of equations of the derivatives:\n",
      "\n",
      "$$\n",
      "\\frac{\\partial J(u_n)}{\\partial \\alpha_i}=\\sum_{j=1}^n a(\\psi_i, \\psi_j)\\alpha_j+a(\\psi_0, \\psi_i)-F(\\psi_i),\\ \\ \\ i=1\\text{ to }n\n",
      "$$\n",
      "\n",
      "Or we can also rewrite the above equation into a more familiar form, which we keep the unknowns on the left hand side and all others on the right hand side:\n",
      "\n",
      "$$\n",
      "\\sum_{j=1}^n a(\\psi_i, \\psi_j)\\alpha_j=F(\\psi_i)-a(\\psi_0, \\psi_i),\\ \\ \\ i=1\\text{ to }n\n",
      "$$\n",
      "\n",
      "There are $n$ unknowns, i.e. $\\alpha_1,\\ \\alpha_2,\\dots\\alpha_n$, and there are also $n$ equations in the above system of equations, so we can sovle the equations for our unknown coefficients now.\n",
      "\n",
      "After we obtain the set of coefficients $\\alpha_1,\\ \\alpha_2,\\dots\\alpha_n$,  $u_n(x)=\\psi_0(x)+\\sum_{i=1}^{n}{\\alpha_i \\psi_i(x)}$ now is function that can make the functional $J(u_n)$ minimal. In other words, it is the solution of the original differential equation (of course, it is just an approximate solution)."
     ]
    },
    {
     "cell_type": "heading",
     "level": 5,
     "metadata": {},
     "source": [
      "Example"
     ]
    },
    {
     "cell_type": "markdown",
     "metadata": {},
     "source": [
      "<img src=\"files/figs/Ritz_example.jpg\">"
     ]
    },
    {
     "cell_type": "heading",
     "level": 2,
     "metadata": {},
     "source": [
      "Calculus of variations"
     ]
    },
    {
     "cell_type": "markdown",
     "metadata": {},
     "source": [
      "I'm tired. So just show you the theorem.\n",
      "\n",
      "Recall the functional $J(u)$ for the 2nd-order ODE we used in the beginning. We rewrite the $J(u)$ from a general form into a special form with two functional $a(g_1(x), g_2(x))$ and $F(g(x))$. In fact, not only that ODE but also the functionals of other types of defferential equations can be rewritten to the form of $a(g_1(x), g_2(x))$ and $F(g(x))$. Of course, the detail of $a(g_1(x), g_2(x))$ and $F(g(x))$ are different from one differential equation to another equation.\n",
      "\n",
      "Utilizing the functional $a(g_1(x), g_2(x))$ and $F(g(x))$, finding the minimum of the functional $J(u)$ is equal to finding a suitable solution that satisfies\n",
      "\n",
      "$$\n",
      "a(u, v) = F(v)\n",
      "$$\n",
      "\n",
      "where $v$ is a selected function(s) that is/are at least 1st-order continuous. And functional $a$ and $F$ are derived from original definition of $J(u)$. For the case of the ODE we used at the beginning, $a(g_1(x), g_2(x))$ and $F(g(x))$ are again shown here:\n",
      "\n",
      "$$\n",
      "\\left\\{\n",
      "\\begin{array}{l}\n",
      "a(g_1(x), g_2(x))=\\int_a^b [p(x)g_1'(x)g_2'(x)+q(x)g_1(x)g_2(x)]dx+\\sigma p(b)g_1(b)g_2(b) \\\\\n",
      "F(g(x)) = \\int_a^b f(x)g(x)\\ dx + \\beta p(b)g(b)\n",
      "\\end{array}\n",
      "\\right.\n",
      "$$\n",
      "\n",
      "We said that the solution of a differential equation is the minimum of $J(u)$. And now we also know that the minimum of $J(u)$ will satisfy $a(u, v)=F(v)$. This means that we can also solve $a(u, v)=F(v)$ to find the solution of the original differential equation. A classical method to solve $a(u, v)=F(v)$ is the ***Galerkin method***.\n",
      "\n",
      "Before we introduce the galerkin method, we want to talk about the ***weighted residudal method*** first."
     ]
    },
    {
     "cell_type": "heading",
     "level": 2,
     "metadata": {},
     "source": [
      "Weight Residual Method"
     ]
    },
    {
     "cell_type": "markdown",
     "metadata": {},
     "source": [
      "If the original differential equation is $Lu=f$, then we have\n",
      "\n",
      "$$\n",
      "\\int_\\Omega (Lu-f)v d\\Omega=0\n",
      "$$\n",
      "\n",
      "$v$ is again a selected functions. If the approximate solution of $u$ is named $u_n$, then we will obtain so-called weighted residual equation:\n",
      "\n",
      "$$\n",
      "\\int_\\Omega (Lu_n-f)v d\\Omega=0\n",
      "$$\n",
      "\n",
      "$Lu_n-f$ is the residual. So the meaning of the weighted residual equation is: we don't force the residual at every point in a discretized space to be zero; however, we hope the overall (summed) residual over the whole domain $\\Omega$ is zero after we multiply the residual by some certain weighting function $v$.\n",
      "\n",
      "If we split the weighted residual equation, we'll get\n",
      "\n",
      "$$\n",
      "\\int_\\Omega (Lu)v d\\Omega = \\int_\\Omega fv d\\Omega\n",
      "$$\n",
      "\n",
      "Of course we can simply let $a(u, v)=\\int_\\Omega (Lu)v d\\Omega$ and $F(v)=\\int_\\Omega fv d\\Omega$ and obtain a rough conclusion saying the weighted residual equation is equal to the variational equation we talked about in the previous section. But in fact, if we look closer to the $a(u,v)$ and $F(v)$ in the previous section, we can see that the boundary conditions are included in $a$ and $F$. However, in weighted residual equation, there is no information about the boundary condition. So they are not strictly equal.\n",
      "\n",
      "We can do some mathematical operations, such as integration by parts\uff0c to include the information of boundary conditions into the weighted residual equation. For example,\n",
      "\n",
      "$$\n",
      "\\left\\{\n",
      "\\begin{array}{l}\n",
      "-\\frac{d}{dx}\\left(p\\frac{du}{dx}\\right)+qu=f \\\\\n",
      "u(a)=0,\\ \\ u'(b)+\\sigma u(b)=0\n",
      "\\end{array}\n",
      "\\right.,\\ \n",
      "\\begin{array}{l}\n",
      "x \\in (a, b); \\\\\n",
      "\\ p\\ ,\\ u,\\ q,\\ f\\text{ are functions of x};\\\\\n",
      "\\sigma\\text{ is a constant}\n",
      "\\end{array}\n",
      "$$\n",
      "\n",
      "The weighted residual equation is\n",
      "$$\n",
      "\\int_a^b -\\frac{d}{dx}\\left(p\\frac{du}{dx}\\right)v+quv dx=\\int_a^b fv dx\n",
      "$$\n",
      "\n",
      "Integrate the first term by part, and substitute the boundary conditions into it, it becomes\n",
      "\n",
      "$$\n",
      "\\int_a^b (pu'v'+quv)dx+\\sigma p(b)u(b)v(b)=\\int_a^b fv dx\n",
      "$$\n",
      "\n",
      "or\n",
      "\n",
      "$$\n",
      "a(u, v) = F(v)\n",
      "$$\n",
      "where\n",
      "$$\n",
      "\\left\\{\n",
      "\\begin{array}{l}\n",
      "a(u,v)=\\int_a^b (pu'v'+quv)dx+\\sigma p(b)u(b)v(b) \\\\\n",
      "F(v)=\\int_a^b fv dx\n",
      "\\end{array}\n",
      "\\right.\n",
      "$$\n",
      "\n",
      "After we included the boundary conditions into the weighted residual equation like this, we then can say the weighted residual equation is equal to the variational equation in the previous section. \n",
      "\n",
      "The Galerkin method can also be applied here."
     ]
    },
    {
     "cell_type": "heading",
     "level": 3,
     "metadata": {},
     "source": [
      "The Galerkin method"
     ]
    },
    {
     "cell_type": "heading",
     "level": 5,
     "metadata": {},
     "source": [
      "Concept"
     ]
    },
    {
     "cell_type": "markdown",
     "metadata": {},
     "source": [
      "$u_n(x)=\\psi_0(x)+\\sum_{i=1}^n{\\alpha_i\\psi_i(x)}$ is again the approximate solution here. Now we have to choose a proper $v$ function(s). In Galerkin method, we choose $n$ functions as our $v$, that is, $v_j=\\psi_j$, where $j=1\\text{ to }n$.\n",
      "\n",
      "Substituting $u_n$ and $v_j$ into $a(u,v)=F(v)$, we will get\n",
      "\n",
      "$$\n",
      "\\sum_{i=1}^n{a(\\psi_i,\\psi_j)\\alpha_i}=F(\\psi_j)-a(\\psi_0, \\psi_j)\n",
      "$$\n",
      "\n",
      "***It is the same as what we finally obtained from the Ritz method!!***\n",
      "\n",
      "Though they start from different viewpoints, the Galerkin method is actually equivalent to the Ritz method. That's why we often heard people saying Galerkin-Ritz method."
     ]
    },
    {
     "cell_type": "heading",
     "level": 5,
     "metadata": {},
     "source": [
      "Example"
     ]
    },
    {
     "cell_type": "markdown",
     "metadata": {},
     "source": [
      "<img src=\"files/figs/Galerkin_example.jpg\">"
     ]
    },
    {
     "cell_type": "code",
     "collapsed": false,
     "input": [
      "import numpy\n",
      "from matplotlib import pyplot\n",
      "% matplotlib inline\n",
      "\n",
      "def u_exact(x):\n",
      "    return 0.5 + (numpy.exp(2 * x) - numpy.exp(x)) / (2 * numpy.exp(2) - numpy.exp(1))\n",
      "\n",
      "def un(n, apa, x):\n",
      "    j = numpy.arange(1, n+1, dtype=numpy.float)\n",
      "    return 0.5 + numpy.sum(apa*(x**j))\n",
      "\n",
      "n = 6\n",
      "idx = numpy.linspace(1., n, n, dtype=numpy.float)\n",
      "idx_i, idx_j = numpy.meshgrid(idx, idx)\n",
      "\n",
      "A = idx_i * idx_j / (idx_i + idx_j - 1) + \\\n",
      "    3 * idx_i / (idx_i + idx_j) - \\\n",
      "    2 / (idx_i + idx_j + 1)\n",
      "\n",
      "b = numpy.ones(n)\n",
      "\n",
      "apa = numpy.linalg.solve(A, b)\n",
      "\n",
      "x = numpy.linspace(0., 1., 101)\n",
      "u_fem = numpy.array([un(n, apa, x[i]) for i in range(101)])\n",
      "u_anl = u_exact(x)\n",
      "\n",
      "pyplot.plot(x, numpy.abs(u_anl - u_fem), 'k-', lw=2)\n",
      "pyplot.xlabel('x')\n",
      "pyplot.ylabel('absolute error');"
     ],
     "language": "python",
     "metadata": {},
     "outputs": [
      {
       "metadata": {},
       "output_type": "display_data",
       "png": "[encoded data removed]",
       "text": [
        "<matplotlib.figure.Figure at 0x7f34c408e450>"
       ]
      }
     ],
     "prompt_number": 1
    },
    {
     "cell_type": "code",
     "collapsed": false,
     "input": [
      "from IPython.core.display import HTML\n",
      "css_file = '../css/fem.css'\n",
      "HTML(open(css_file, \"r\").read())"
     ],
     "language": "python",
     "metadata": {},
     "outputs": [
      {
       "html": [
        "<link href='http://fonts.googleapis.com/css?family=Alegreya+Sans:100,300,400,500,700,800,900,100italic,300italic,400italic,500italic,700italic,800italic,900italic' rel='stylesheet' type='text/css'>\n",
        "<link href='http://fonts.googleapis.com/css?family=Arvo:400,700,400italic' rel='stylesheet' type='text/css'>\n",
        "<link href='http://fonts.googleapis.com/css?family=PT+Mono' rel='stylesheet' type='text/css'>\n",
        "<link href='http://fonts.googleapis.com/css?family=Shadows+Into+Light' rel='stylesheet' type='text/css'>\n",
        "<link href='http://fonts.googleapis.com/css?family=Nixie+One' rel='stylesheet' type='text/css'>\n",
        "<style>\n",
        "\n",
        "@font-face {\n",
        "    font-family: \"Computer Modern\";\n",
        "    src: url('http://mirrors.ctan.org/fonts/cm-unicode/fonts/otf/cmunss.otf');\n",
        "}\n",
        "\n",
        "#notebook_panel { /* main background */\n",
        "    background: rgb(245,245,245);\n",
        "}\n",
        "\n",
        "div.cell { /* set cell width */\n",
        "    width: 960px;\n",
        "}\n",
        "\n",
        "div #notebook { /* centre the content */\n",
        "    background: #fff; /* white background for content */\n",
        "    width: 1100px;\n",
        "    margin: auto;\n",
        "    padding-left: 0em;\n",
        "}\n",
        "\n",
        "#notebook li { /* More space between bullet points */\n",
        "margin-top:0.8em;\n",
        "}\n",
        "\n",
        "/* draw border around running cells */\n",
        "div.cell.border-box-sizing.code_cell.running { \n",
        "    border: 1px solid #111;\n",
        "}\n",
        "\n",
        "/* Put a solid color box around each cell and its output, visually linking them*/\n",
        "div.cell.code_cell {\n",
        "    background-color: rgb(256,256,256); \n",
        "    border-radius: 0px; \n",
        "    padding: 0.5em;\n",
        "    margin-left:1em;\n",
        "    margin-top: 1em;\n",
        "}\n",
        "\n",
        "div.text_cell_render{\n",
        "    font-family: 'Alegreya Sans' sans-serif;\n",
        "    line-height: 140%;\n",
        "    font-size: 125%;\n",
        "    font-weight: 400;\n",
        "    width:960px;\n",
        "    margin-left:auto;\n",
        "    margin-right:auto;\n",
        "}\n",
        "\n",
        "\n",
        "/* Formatting for header cells */\n",
        ".text_cell_render h1 {\n",
        "    font-family: 'Nixie One', serif;\n",
        "    font-style:regular;\n",
        "    font-weight: 400;    \n",
        "    font-size: 45pt;\n",
        "    line-height: 50%;\n",
        "    color: rgb(0,51,102);\n",
        "    margin-bottom: 0.5em;\n",
        "    margin-top: 0.5em;\n",
        "    display: block;\n",
        "}\t\n",
        ".text_cell_render h2 {\n",
        "    font-family: 'Nixie One', serif;\n",
        "    font-weight: 400;\n",
        "    font-size: 30pt;\n",
        "    line-height: 50%;\n",
        "    color: rgb(0,51,102);\n",
        "    margin-bottom: 0.1em;\n",
        "    margin-top: 0.3em;\n",
        "    display: block;\n",
        "}\t\n",
        "\n",
        ".text_cell_render h3 {\n",
        "    font-family: 'Nixie One', serif;\n",
        "    margin-top:16px;\n",
        "\tfont-size: 22pt;\n",
        "    font-weight: 600;\n",
        "    margin-bottom: 3px;\n",
        "    font-style: regular;\n",
        "    color: rgb(102,102,0);\n",
        "}\n",
        "\n",
        ".text_cell_render h4 {    /*Use this for captions*/\n",
        "    font-family: 'Nixie One', serif;\n",
        "    font-size: 14pt;\n",
        "    text-align: center;\n",
        "    margin-top: 0em;\n",
        "    margin-bottom: 2em;\n",
        "    font-style: regular;\n",
        "}\n",
        "\n",
        ".text_cell_render h5 {  /*Use this for small titles*/\n",
        "    font-family: 'Nixie One', sans-serif;\n",
        "    font-weight: 400;\n",
        "    font-size: 16pt;\n",
        "    color: rgb(163,0,0);\n",
        "    font-style: italic;\n",
        "    margin-bottom: .1em;\n",
        "    margin-top: 0.8em;\n",
        "    display: block;\n",
        "}\n",
        "\n",
        ".text_cell_render h6 { /*use this for copyright note*/\n",
        "    font-family: 'PT Mono', sans-serif;\n",
        "    font-weight: 300;\n",
        "    font-size: 9pt;\n",
        "    line-height: 100%;\n",
        "    color: grey;\n",
        "    margin-bottom: 1px;\n",
        "    margin-top: 1px;\n",
        "}\n",
        "\n",
        ".CodeMirror{\n",
        "        font-family: \"PT Mono\";\n",
        "        font-size: 90%;\n",
        "}\n",
        "\n",
        "</style>\n",
        "<script>\n",
        "    MathJax.Hub.Config({\n",
        "                        TeX: {\n",
        "                           extensions: [\"AMSmath.js\"],\n",
        "                           equationNumbers: { autoNumber: \"AMS\", useLabelIds: true}\n",
        "                           },\n",
        "                tex2jax: {\n",
        "                    inlineMath: [ ['$','$'], [\"\\\\(\",\"\\\\)\"] ],\n",
        "                    displayMath: [ ['$$','$$'], [\"\\\\[\",\"\\\\]\"] ]\n",
        "                },\n",
        "                displayAlign: 'center', // Change this to 'center' to center equations.\n",
        "                \"HTML-CSS\": {\n",
        "                    styles: {'.MathJax_Display': {\"margin\": 0}}\n",
        "                }\n",
        "        });\n",
        "</script>\n"
       ],
       "metadata": {},
       "output_type": "pyout",
       "prompt_number": 2,
       "text": [
        "<IPython.core.display.HTML at 0x7fb880421210>"
       ]
      }
     ],
     "prompt_number": 2
    }
   ],
   "metadata": {}
  }
 ]
}